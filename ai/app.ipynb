{
 "cells": [
  {
   "cell_type": "code",
   "execution_count": 1,
   "metadata": {},
   "outputs": [
    {
     "name": "stdout",
     "output_type": "stream",
     "text": [
      "Found 26120 images belonging to 135 classes.\n",
      "Found 26120 images belonging to 135 classes.\n",
      "Epoch 1/33\n",
      "408/408 [==============================] - 1038s 3s/step - loss: 4.8391 - accuracy: 0.0172 - val_loss: 4.6589 - val_accuracy: 0.0261\n",
      "Epoch 2/33\n",
      "408/408 [==============================] - 1037s 3s/step - loss: 4.6041 - accuracy: 0.0339 - val_loss: 4.4917 - val_accuracy: 0.0490\n",
      "Epoch 3/33\n",
      "408/408 [==============================] - 1040s 3s/step - loss: 4.4762 - accuracy: 0.0515 - val_loss: 4.3564 - val_accuracy: 0.0678\n",
      "Epoch 4/33\n",
      "408/408 [==============================] - 1039s 3s/step - loss: 4.3223 - accuracy: 0.0707 - val_loss: 4.1378 - val_accuracy: 0.0991\n",
      "Epoch 5/33\n",
      "408/408 [==============================] - 1039s 3s/step - loss: 4.1356 - accuracy: 0.0962 - val_loss: 3.8261 - val_accuracy: 0.1462\n",
      "Epoch 6/33\n",
      "408/408 [==============================] - 1037s 3s/step - loss: 3.9277 - accuracy: 0.1329 - val_loss: 3.6374 - val_accuracy: 0.1849\n",
      "Epoch 7/33\n",
      "408/408 [==============================] - 1041s 3s/step - loss: 3.7118 - accuracy: 0.1680 - val_loss: 3.4515 - val_accuracy: 0.2229\n",
      "Epoch 8/33\n",
      "408/408 [==============================] - 1034s 3s/step - loss: 3.4514 - accuracy: 0.2156 - val_loss: 3.0765 - val_accuracy: 0.2928\n",
      "Epoch 9/33\n",
      "408/408 [==============================] - 1034s 3s/step - loss: 3.1993 - accuracy: 0.2646 - val_loss: 2.6840 - val_accuracy: 0.3769\n",
      "Epoch 10/33\n",
      "408/408 [==============================] - 1034s 3s/step - loss: 2.9481 - accuracy: 0.3188 - val_loss: 2.3039 - val_accuracy: 0.4651\n",
      "Epoch 11/33\n",
      "408/408 [==============================] - 1036s 3s/step - loss: 2.6782 - accuracy: 0.3768 - val_loss: 2.1514 - val_accuracy: 0.4956\n",
      "Epoch 12/33\n",
      "408/408 [==============================] - 1036s 3s/step - loss: 2.4261 - accuracy: 0.4352 - val_loss: 1.9187 - val_accuracy: 0.5485\n",
      "Epoch 13/33\n",
      "408/408 [==============================] - 1036s 3s/step - loss: 2.2147 - accuracy: 0.4781 - val_loss: 1.6033 - val_accuracy: 0.6180\n",
      "Epoch 14/33\n",
      "408/408 [==============================] - 1035s 3s/step - loss: 1.9871 - accuracy: 0.5272 - val_loss: 1.4672 - val_accuracy: 0.6472\n",
      "Epoch 15/33\n",
      "408/408 [==============================] - 1034s 3s/step - loss: 1.8129 - accuracy: 0.5679 - val_loss: 1.2560 - val_accuracy: 0.7004\n",
      "Epoch 16/33\n",
      "408/408 [==============================] - 1034s 3s/step - loss: 1.6547 - accuracy: 0.6039 - val_loss: 1.0961 - val_accuracy: 0.7359\n",
      "Epoch 17/33\n",
      "408/408 [==============================] - 1033s 3s/step - loss: 1.4784 - accuracy: 0.6394 - val_loss: 1.0306 - val_accuracy: 0.7479\n",
      "Epoch 18/33\n",
      "408/408 [==============================] - 1034s 3s/step - loss: 1.3515 - accuracy: 0.6702 - val_loss: 0.8243 - val_accuracy: 0.7972\n",
      "Epoch 19/33\n",
      "408/408 [==============================] - 1035s 3s/step - loss: 1.2176 - accuracy: 0.7010 - val_loss: 0.6982 - val_accuracy: 0.8263\n",
      "Epoch 20/33\n",
      "408/408 [==============================] - 1035s 3s/step - loss: 1.1466 - accuracy: 0.7199 - val_loss: 0.7184 - val_accuracy: 0.8211\n",
      "Epoch 21/33\n",
      "408/408 [==============================] - 1036s 3s/step - loss: 1.0393 - accuracy: 0.7451 - val_loss: 0.5488 - val_accuracy: 0.8668\n",
      "Epoch 22/33\n",
      "408/408 [==============================] - 1037s 3s/step - loss: 0.9377 - accuracy: 0.7655 - val_loss: 0.5494 - val_accuracy: 0.8669\n",
      "Epoch 23/33\n",
      "408/408 [==============================] - 1036s 3s/step - loss: 0.8700 - accuracy: 0.7813 - val_loss: 0.5257 - val_accuracy: 0.8678\n",
      "Epoch 24/33\n",
      "408/408 [==============================] - 1036s 3s/step - loss: 0.8476 - accuracy: 0.7875 - val_loss: 0.4136 - val_accuracy: 0.8956\n",
      "Epoch 25/33\n",
      "408/408 [==============================] - 1035s 3s/step - loss: 0.7587 - accuracy: 0.8103 - val_loss: 0.4025 - val_accuracy: 0.8956\n",
      "Epoch 26/33\n",
      "408/408 [==============================] - 1035s 3s/step - loss: 0.7162 - accuracy: 0.8187 - val_loss: 0.3282 - val_accuracy: 0.9177\n",
      "Epoch 27/33\n",
      "408/408 [==============================] - 1035s 3s/step - loss: 0.6626 - accuracy: 0.8316 - val_loss: 0.2832 - val_accuracy: 0.9286\n",
      "Epoch 28/33\n",
      "408/408 [==============================] - 1035s 3s/step - loss: 0.6317 - accuracy: 0.8387 - val_loss: 0.2567 - val_accuracy: 0.9340\n",
      "Epoch 29/33\n",
      "408/408 [==============================] - 1036s 3s/step - loss: 0.5878 - accuracy: 0.8508 - val_loss: 0.3822 - val_accuracy: 0.9021\n",
      "Epoch 30/33\n",
      "408/408 [==============================] - 1033s 3s/step - loss: 0.5633 - accuracy: 0.8558 - val_loss: 0.2064 - val_accuracy: 0.9478\n",
      "Epoch 31/33\n",
      "408/408 [==============================] - 1035s 3s/step - loss: 0.5561 - accuracy: 0.8595 - val_loss: 0.2140 - val_accuracy: 0.9439\n",
      "Epoch 32/33\n",
      "408/408 [==============================] - 1037s 3s/step - loss: 0.4857 - accuracy: 0.8746 - val_loss: 0.1786 - val_accuracy: 0.9538\n",
      "Epoch 33/33\n",
      "408/408 [==============================] - 1035s 3s/step - loss: 0.4879 - accuracy: 0.8751 - val_loss: 0.2182 - val_accuracy: 0.9430\n"
     ]
    },
    {
     "name": "stderr",
     "output_type": "stream",
     "text": [
      "/Library/Frameworks/Python.framework/Versions/3.10/lib/python3.10/site-packages/keras/src/engine/training.py:3103: UserWarning: You are saving your model as an HDF5 file via `model.save()`. This file format is considered legacy. We recommend using instead the native Keras format, e.g. `model.save('my_model.keras')`.\n",
      "  saving_api.save_model(\n"
     ]
    }
   ],
   "source": [
    "import os\n",
    "import tensorflow as tf\n",
    "from tensorflow.keras import layers, models\n",
    "from tensorflow.keras.preprocessing.image import ImageDataGenerator\n",
    "\n",
    "# Set the path to your dataset\n",
    "dataset_train_path = '/Users/jonathanprasetyo/Documents/Snake Classifier/snake/train'\n",
    "dataset_test_path = '/Users/jonathanprasetyo/Documents/Snake Classifier/snake/test'\n",
    "\n",
    "# Define the input image dimensions\n",
    "img_height, img_width = 224, 224\n",
    "input_shape = (img_height, img_width, 3)\n",
    "\n",
    "# Define the number of classes (snake species)\n",
    "num_classes = len(os.listdir(dataset_train_path))\n",
    "\n",
    "def create_snake_classifier_model():\n",
    "    model = models.Sequential()\n",
    "    model.add(layers.Conv2D(64, (3, 3), activation='relu', input_shape=input_shape))\n",
    "    model.add(layers.MaxPooling2D((2, 2)))\n",
    "    model.add(layers.Conv2D(128, (3, 3), activation='relu'))\n",
    "    model.add(layers.MaxPooling2D((2, 2)))\n",
    "    model.add(layers.Conv2D(256, (3, 3), activation='relu'))\n",
    "    model.add(layers.MaxPooling2D((2, 2)))\n",
    "    model.add(layers.Flatten())\n",
    "    model.add(layers.Dense(512, activation='relu'))\n",
    "    model.add(layers.Dense(num_classes, activation='softmax'))\n",
    "\n",
    "    # Compile the model\n",
    "    model.compile(optimizer='adam',\n",
    "                  loss='categorical_crossentropy',\n",
    "                  metrics=['accuracy'])\n",
    "\n",
    "    return model\n",
    "\n",
    "\n",
    "# Use ImageDataGenerator for data augmentation\n",
    "train_datagen = ImageDataGenerator(\n",
    "    rescale=1./255,\n",
    "    shear_range=0.2,\n",
    "    zoom_range=0.2,\n",
    "    horizontal_flip=True\n",
    ")\n",
    "test_datagen = ImageDataGenerator(rescale=1./255)\n",
    "\n",
    "train_generator = train_datagen.flow_from_directory(\n",
    "    dataset_train_path,\n",
    "    target_size=(img_height, img_width),\n",
    "    batch_size=64,\n",
    "    class_mode='categorical'\n",
    ")\n",
    "\n",
    "test_generator = test_datagen.flow_from_directory(\n",
    "    dataset_train_path,\n",
    "    target_size=(img_height, img_width),\n",
    "    batch_size=64,\n",
    "    class_mode='categorical'\n",
    ")\n",
    "\n",
    "\n",
    "# Create and compile the model\n",
    "model = create_snake_classifier_model()\n",
    "\n",
    "\n",
    "# Train the model\n",
    "model.fit(\n",
    "    train_generator,\n",
    "    steps_per_epoch=train_generator.samples // train_generator.batch_size,\n",
    "    epochs=33,\n",
    "    validation_data=test_generator\n",
    ")\n",
    "\n",
    "# Save the model\n",
    "model.save('snake_classifier_model.h5')"
   ]
  },
  {
   "cell_type": "code",
   "execution_count": null,
   "metadata": {},
   "outputs": [],
   "source": [
    "import zipfile\n",
    "import os\n",
    "\n",
    "# Replace 'your_zip_file.zip' with the actual name of your zip file\n",
    "zip_file_path = '/Users/jonathanprasetyo/Documents/Snake Classifier/snake.zip'\n",
    "\n",
    "# Replace 'your_extracted_folder' with the desired folder name\n",
    "extracted_folder_path = '/Users/jonathanprasetyo/Documents/Snake Classifier/extract'\n",
    "\n",
    "# Create the folder to extract files into\n",
    "os.makedirs(extracted_folder_path, exist_ok=True)\n",
    "\n",
    "# Extract the zip file\n",
    "with zipfile.ZipFile(zip_file_path, 'r') as zip_ref:\n",
    "    zip_ref.extractall(extracted_folder_path)\n",
    "\n",
    "# List the contents of the extracted folder\n",
    "extracted_contents = os.listdir(extracted_folder_path)\n",
    "print(f\"Contents of the extracted folder: {extracted_contents}\")"
   ]
  },
  {
   "cell_type": "code",
   "execution_count": 1,
   "metadata": {},
   "outputs": [],
   "source": [
    "from keras.layers import Input, Lambda, Dense, Flatten\n",
    "from keras.models import Model\n",
    "from keras.applications.vgg16 import VGG16\n",
    "from keras.applications.vgg16 import preprocess_input\n",
    "from keras.preprocessing import image\n",
    "from keras.preprocessing.image import ImageDataGenerator\n",
    "from keras.models import Sequential\n",
    "import numpy as np\n",
    "from glob import glob\n",
    "import matplotlib.pyplot as plt"
   ]
  },
  {
   "cell_type": "code",
   "execution_count": 2,
   "metadata": {},
   "outputs": [],
   "source": [
    "IMAGE_SIZE = [224, 224]"
   ]
  },
  {
   "cell_type": "code",
   "execution_count": 3,
   "metadata": {},
   "outputs": [],
   "source": [
    "train_directory='/Users/jonathanprasetyo/Documents/Snake Classifier/snake/train'\n",
    "validation_directory='/Users/jonathanprasetyo/Documents/Snake Classifier/snake/test'"
   ]
  },
  {
   "cell_type": "code",
   "execution_count": null,
   "metadata": {},
   "outputs": [],
   "source": [
    "weights_path = '/kaggle/input/working/vgg16_weights_tf_dim_ordering_tf_kernels_notop.h5'\n",
    "\n",
    "# add preprocessing layer to the front of VGG\n",
    "vgg = VGG16(input_shape=IMAGE_SIZE + [3], weights=weights_path, include_top=False)\n",
    "\n",
    "# don't train existing weights\n",
    "for layer in vgg.layers:\n",
    "  layer.trainable = False "
   ]
  },
  {
   "cell_type": "code",
   "execution_count": null,
   "metadata": {},
   "outputs": [],
   "source": [
    "#getting number of classes\n",
    "folders = glob('/Users/jonathanprasetyo/Documents/Snake Classifier/snake/train/*')\n",
    "len(folders)"
   ]
  },
  {
   "cell_type": "code",
   "execution_count": null,
   "metadata": {},
   "outputs": [],
   "source": [
    "x = Flatten()(vgg.output)\n",
    "# x = Dense(1000, activation='relu')(x)\n",
    "prediction = Dense(len(folders), activation='softmax')(x)"
   ]
  },
  {
   "cell_type": "code",
   "execution_count": null,
   "metadata": {},
   "outputs": [],
   "source": [
    "# create a model object\n",
    "model = Model(inputs=vgg.input, outputs=prediction)\n",
    "\n",
    "# view the structure of the model\n",
    "model.summary()"
   ]
  },
  {
   "cell_type": "code",
   "execution_count": null,
   "metadata": {},
   "outputs": [],
   "source": [
    "model.compile(\n",
    "  loss='categorical_crossentropy',\n",
    "  optimizer='adam',\n",
    "  metrics=['accuracy']\n",
    ")"
   ]
  },
  {
   "cell_type": "code",
   "execution_count": null,
   "metadata": {},
   "outputs": [],
   "source": [
    "from keras.preprocessing.image import ImageDataGenerator\n",
    "\n",
    "train_datagen = ImageDataGenerator(rescale=1./255)\n",
    "\n",
    "validation_datagen = ImageDataGenerator(rescale = 1./255)\n",
    "\n",
    "training_set = train_datagen.flow_from_directory(train_directory,\n",
    "                                                 target_size = (224, 224),\n",
    "                                                 batch_size = 32,\n",
    "                                                 class_mode = 'categorical')\n",
    "\n",
    "validation_set = validation_datagen.flow_from_directory(validation_directory,\n",
    "                                            target_size = (224, 224),\n",
    "                                            batch_size = 32,\n",
    "                                            class_mode = 'categorical')"
   ]
  },
  {
   "cell_type": "code",
   "execution_count": null,
   "metadata": {},
   "outputs": [],
   "source": [
    "print(len(training_set))\n",
    "print(len(validation_set))"
   ]
  },
  {
   "cell_type": "code",
   "execution_count": null,
   "metadata": {},
   "outputs": [],
   "source": [
    "r = model.fit(\n",
    "  training_set,\n",
    "  validation_data=validation_set,\n",
    "  epochs=5,\n",
    "  steps_per_epoch=len(training_set),\n",
    "  validation_steps=len(validation_set)\n",
    ")"
   ]
  },
  {
   "cell_type": "code",
   "execution_count": null,
   "metadata": {},
   "outputs": [],
   "source": [
    "model.save('SC.h5')"
   ]
  }
 ],
 "metadata": {
  "kernelspec": {
   "display_name": "Python 3",
   "language": "python",
   "name": "python3"
  },
  "language_info": {
   "codemirror_mode": {
    "name": "ipython",
    "version": 3
   },
   "file_extension": ".py",
   "mimetype": "text/x-python",
   "name": "python",
   "nbconvert_exporter": "python",
   "pygments_lexer": "ipython3",
   "version": "3.10.7"
  }
 },
 "nbformat": 4,
 "nbformat_minor": 2
}
